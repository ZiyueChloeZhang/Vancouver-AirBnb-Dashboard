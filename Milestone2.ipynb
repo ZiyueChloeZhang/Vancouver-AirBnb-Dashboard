{
 "cells": [
  {
   "cell_type": "markdown",
   "id": "0b42d446-9f2e-4758-b889-8bd91d7ac953",
   "metadata": {},
   "source": [
    "# Interactive Dashboard\n",
    "## Visualizations\n",
    "- Effective & Expressive\n",
    "\n",
    "- Have at least 4 distinct visual representations coded in Altair\n",
    "\n",
    "- Custom-designed visualization not from an off-the-shelf library. Don’t copy the entire design from an existing visualization.\n",
    "\n",
    "- Individual visualization components may be copied from elsewhere (with attribution). When you attribute, make sure you include a link to the original viz and how you changed it to suite your purposes\n",
    "\n",
    "- Demonstrate appropriate and effective use of basic visual encodings: spatial layout, color, size, shape, etc.\n",
    "\n",
    "- Provide a fair representation of the underlying data.\n",
    "\n",
    "- The data / visualization should address an interesting question relevant to the partner or their users and convincingly solve target user tasks."
   ]
  },
  {
   "cell_type": "markdown",
   "id": "6c20cb68-40d6-4598-85c6-0d8d03e6a021",
   "metadata": {},
   "source": [
    "## Presentation\n",
    "- Layout should use screen space wisely. Layouts that are too sparse force the user to scroll unnecessarily. Layouts that are too dense are cluttered.\n",
    "\n",
    "- Dashboard should be in a grid (i.e., 2 rows, 2 columns if having 4)\n",
    "\n",
    "- Use consistent color encodings when applicable across visual representations\n",
    "\n",
    "- Interface should include enough headings, legends, axis labels, and any other explanatory text needed to make it comprehensible.\n",
    "\n",
    "- Below each viz in the view there should be text that details what task the viz addresses."
   ]
  },
  {
   "cell_type": "markdown",
   "id": "582ade07-4681-470d-acbe-28055c6ea37d",
   "metadata": {},
   "source": [
    "## Interaction Elements\n",
    "### Events\n",
    "- The viz. in the dashboard must support\n",
    "\n",
    "- support mouse-based interaction (e.g., hover, click, drag, tooltip)\n",
    "\n",
    "- at least one UI widget (eg. dropdown, radio button, range slider).\n",
    "\n",
    "- at least one advance direct interaction selection technique such as selection interval or selection point.\n",
    "\n",
    "### Functionality\n",
    "- at least one bi-directional linking across two vizzes (i.e., the change in one elicits a change in the other and vice versa)\n",
    "\n",
    "- at least one use of filtering or drilling."
   ]
  },
  {
   "cell_type": "code",
   "execution_count": null,
   "id": "25670ec6-af07-4106-a151-de6758111db3",
   "metadata": {},
   "outputs": [],
   "source": []
  }
 ],
 "metadata": {
  "kernelspec": {
   "display_name": "Python 3 (ipykernel)",
   "language": "python",
   "name": "python3"
  },
  "language_info": {
   "codemirror_mode": {
    "name": "ipython",
    "version": 3
   },
   "file_extension": ".py",
   "mimetype": "text/x-python",
   "name": "python",
   "nbconvert_exporter": "python",
   "pygments_lexer": "ipython3",
   "version": "3.11.4"
  }
 },
 "nbformat": 4,
 "nbformat_minor": 5
}
