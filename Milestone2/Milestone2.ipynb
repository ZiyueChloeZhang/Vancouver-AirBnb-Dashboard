{
 "cells": [
  {
   "cell_type": "code",
   "execution_count": null,
   "id": "25670ec6-af07-4106-a151-de6758111db3",
   "metadata": {},
   "outputs": [],
   "source": [
    "import pandas as pd\n",
    "import altair as alt\n",
    "alt.data_transformers.disable_max_rows()"
   ]
  },
  {
   "cell_type": "code",
   "execution_count": null,
   "id": "8254e824-6080-403b-9a81-76b29e5e8425",
   "metadata": {},
   "outputs": [],
   "source": [
    "df = pd.read_csv(\"http://data.insideairbnb.com/canada/bc/vancouver/2023-09-06/data/listings.csv\")"
   ]
  },
  {
   "cell_type": "code",
   "execution_count": null,
   "id": "d009616e-6a21-4b6c-92bd-7290f383eb33",
   "metadata": {},
   "outputs": [],
   "source": [
    "van_neighbourhoods_map_url = \"http://data.insideairbnb.com/canada/bc/vancouver/2023-09-06/visualisations/neighbourhoods.geojson\"\n",
    "map_data = alt.Data(url=van_neighbourhoods_map_url, format=alt.DataFormat(property='features',type='json'))"
   ]
  },
  {
   "cell_type": "code",
   "execution_count": null,
   "id": "26140800",
   "metadata": {},
   "outputs": [],
   "source": [
    "df['price'] = df['price'].replace('[\\$,]', '', regex=True).astype(float)\n",
    "review_cols = ['review_scores_rating', 'review_scores_accuracy', 'review_scores_cleanliness','review_scores_checkin', 'review_scores_communication', 'review_scores_location', 'review_scores_value']\n",
    "df = df.melt(id_vars=df.columns.difference(review_cols), var_name='review_type', value_name='rating')\n",
    "df.shape"
   ]
  },
  {
   "cell_type": "code",
   "execution_count": 14,
   "id": "32faf9d6",
   "metadata": {},
   "outputs": [],
   "source": [
    "map_summary_data = df[[\"neighbourhood_cleansed\", \"availability_365\", \"price\"]].groupby('neighbourhood_cleansed').agg(\n",
    "  mean_availability_365=('availability_365', 'mean'),\n",
    "  listing_count=('neighbourhood_cleansed', 'size'),\n",
    "  avg_price=('price', 'mean')\n",
    ").reset_index()"
   ]
  },
  {
   "cell_type": "code",
   "execution_count": null,
   "id": "d211638a",
   "metadata": {},
   "outputs": [],
   "source": [
    "brush_neighbourhood = alt.selection_point(on='click', fields=['properties.neighbourhood'], empty = False)\n",
    "\n",
    "basemap = alt.Chart(map_data).mark_geoshape(\n",
    "  stroke='white',\n",
    "  strokeWidth=1.5\n",
    ").transform_lookup(\n",
    "  lookup='properties.neighbourhood',\n",
    "  from_=alt.LookupData(map_summary_data, \"neighbourhood_cleansed\", ['mean_availability_365', 'listing_count', 'avg_price'])\n",
    ").encode(\n",
    "  # color=alt.condition(brush_neighbourhood, alt.value('red'), 'avg_price:Q'),\n",
    "  color='avg_price:Q',\n",
    "  tooltip=['properties.neighbourhood:N', 'mean_availability_365:Q', 'listing_count:Q', 'avg_price:Q']\n",
    ").add_params(\n",
    "    brush_neighbourhood\n",
    ")\n"
   ]
  },
  {
   "cell_type": "code",
   "execution_count": null,
   "id": "fa770b27",
   "metadata": {},
   "outputs": [],
   "source": [
    "brush_listings = alt.selection_interval(encodings=['longitude', 'latitude'], empty = True)\n",
    "\n",
    "listings = alt.Chart(df).mark_circle(\n",
    "    size = 8,\n",
    "    opacity = 0.7,\n",
    "    color = 'red'\n",
    ").encode(\n",
    "    longitude=\"longitude:Q\", \n",
    "    latitude=\"latitude:Q\",\n",
    "    # color = alt.condition(brush_listings, alt.value('red'), alt.value('lightgray')),\n",
    "     tooltip=['name', 'description']\n",
    ").add_params(\n",
    "    brush_listings\n",
    ").transform_filter(\n",
    "    brush_listings\n",
    ")"
   ]
  },
  {
   "cell_type": "code",
   "execution_count": null,
   "id": "ab6cfc5a-d127-4514-8a0a-2268426b2683",
   "metadata": {},
   "outputs": [],
   "source": [
    "brush_price = alt.selection_interval(encodings=['x'])\n",
    "\n",
    "price_tick = alt.Chart(\n",
    "    data = df,\n",
    "    width = 700\n",
    ").add_params(\n",
    "    brush_price\n",
    ").mark_tick(\n",
    ").encode(\n",
    "    x = alt.X('price', scale=alt.Scale(domain = [0,2300])).axis(\n",
    "        title = 'Price per Night',\n",
    "        orient='top',\n",
    "        ticks=False,\n",
    "        domain=True\n",
    "    ),\n",
    "    color=alt.condition(\n",
    "        brush_price,\n",
    "        alt.value('steelblue'),\n",
    "        alt.value('lightgrey'))\n",
    ").transform_filter(\n",
    "    alt.datum.price <= 2300\n",
    ")"
   ]
  },
  {
   "cell_type": "code",
   "execution_count": null,
   "id": "fa5ed986-aa7c-4f2c-983e-c0fe8438e656",
   "metadata": {},
   "outputs": [],
   "source": [
    "review_scores = alt.Chart(df).mark_boxplot(\n",
    ").encode(\n",
    "    y='review_type:N',\n",
    "    x='rating:Q'\n",
    ")"
   ]
  },
  {
   "cell_type": "code",
   "execution_count": null,
   "id": "faae1970-8498-4f6b-9ef1-1244993a09a9",
   "metadata": {},
   "outputs": [],
   "source": [
    "piechart_hostIsSuperhost = alt.Chart(df).mark_arc(size=100).encode(\n",
    "    theta='count()',\n",
    "    color='host_is_superhost',\n",
    "    tooltip=['count()']\n",
    ").transform_filter(\n",
    "    alt.datum.host_is_superhost != None\n",
    ")\n",
    "piechart_instantBookable = alt.Chart(df).mark_arc(size=100).encode(\n",
    "    theta='count()',\n",
    "    color='instant_bookable',\n",
    "    tooltip=['count()']\n",
    ")\n",
    "piechart_propertyType = alt.Chart(df).mark_arc(size=100).encode(\n",
    "    theta='count()',\n",
    "    color='property_type',\n",
    "    tooltip=['count()','room_type','property_type']\n",
    ")\n",
    "\n",
    "pies = alt.vconcat(piechart_hostIsSuperhost, piechart_instantBookable)"
   ]
  },
  {
   "cell_type": "code",
   "execution_count": null,
   "id": "8af412bf-ab01-4d4b-9da9-cecbb20ec3d3",
   "metadata": {},
   "outputs": [],
   "source": [
    "bar_propertyType = alt.Chart(df).mark_bar().transform_aggregate(\n",
    "    property_count='count()',\n",
    "    groupby=['property_type']\n",
    ").transform_window(\n",
    "    rank='rank(property_count)',\n",
    "    sort=[alt.SortField('property_count', order='descending')]\n",
    ").encode(\n",
    "    y=alt.Y('property_count:Q', title='Count'),\n",
    "    x=alt.X('property_type:N').sort('-y'),\n",
    "    tooltip=['property_count:Q', 'property_type']\n",
    ").transform_filter(\n",
    "    (alt.datum.rank <= 10)\n",
    ")"
   ]
  },
  {
   "cell_type": "code",
   "execution_count": null,
   "id": "22faf0fb-3eb7-45e8-bdbc-6a43d09d2429",
   "metadata": {},
   "outputs": [],
   "source": [
    "ava_days = alt.Chart(df).mark_bar().encode(\n",
    "    alt.X('availability_365',axis=alt.Axis(title='Number of Days Available'),scale=alt.Scale(domain=[0, 365])),\n",
    "    alt.Y('count()',axis=alt.Axis(title='Number of Listings')),\n",
    "    tooltip=['neighbourhood_cleansed','count()']\n",
    ").properties(\n",
    "    title='Nubmer of listing vs. Number of Days Available'\n",
    ")"
   ]
  },
  {
   "cell_type": "code",
   "execution_count": null,
   "id": "ff5a6f28-134e-4e94-959e-83c1ae2b1efe",
   "metadata": {},
   "outputs": [],
   "source": [
    "# vancouver_map\n",
    "\n",
    "selected_price_tick = price_tick.transform_filter(brush_listings)\n",
    "\n",
    "selected_ava_days = ava_days.transform_filter(brush_price).transform_filter(brush_listings)\n",
    "selected_pies = pies.transform_filter(brush_price).transform_filter(brush_listings)\n",
    "selected_review_scores = review_scores.transform_filter(brush_price).transform_filter(brush_listings)\n",
    "selected_bar_propertyType = bar_propertyType.transform_filter(brush_price).transform_filter(brush_listings)\n",
    "\n",
    "listings_selected = listings.encode(\n",
    "    color = alt.condition(brush_price, alt.value('red'), alt.value('grey')),\n",
    "    opacity = alt.condition(brush_price, alt.value(1), alt.value(0.2))\n",
    ")\n",
    "\n",
    "vancouver_map = (basemap + listings_selected).project(\n",
    "    type='identity', reflectY=True\n",
    ").properties(\n",
    "    width = 800,\n",
    "    height = 800\n",
    ")\n",
    "\n",
    "row = selected_ava_days | selected_bar_propertyType  | selected_pies | selected_review_scores\n",
    "\n",
    "# boxplot_row\n",
    "\n",
    "dashboard = alt.vconcat(vancouver_map, selected_price_tick, row)\n",
    "\n",
    "dashboard\n",
    "\n"
   ]
  }
 ],
 "metadata": {
  "kernelspec": {
   "display_name": "320_env",
   "language": "python",
   "name": "python3"
  },
  "language_info": {
   "codemirror_mode": {
    "name": "ipython",
    "version": 3
   },
   "file_extension": ".py",
   "mimetype": "text/x-python",
   "name": "python",
   "nbconvert_exporter": "python",
   "pygments_lexer": "ipython3",
   "version": "3.11.4"
  }
 },
 "nbformat": 4,
 "nbformat_minor": 5
}
