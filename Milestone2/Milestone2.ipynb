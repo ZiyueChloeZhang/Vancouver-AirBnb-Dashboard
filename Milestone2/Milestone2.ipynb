{
 "cells": [
  {
   "cell_type": "code",
   "execution_count": null,
   "id": "fa5af8a4-e3d8-4ad6-bd8e-b8a775c31a1c",
   "metadata": {},
   "outputs": [],
   "source": []
  },
  {
   "cell_type": "markdown",
   "id": "0b42d446-9f2e-4758-b889-8bd91d7ac953",
   "metadata": {},
   "source": [
    "# Interactive Dashboard\n",
    "## Visualizations\n",
    "- Effective & Expressive\n",
    "\n",
    "- Have at least 4 distinct visual representations coded in Altair\n",
    "\n",
    "- Custom-designed visualization not from an off-the-shelf library. Don’t copy the entire design from an existing visualization.\n",
    "\n",
    "- Individual visualization components may be copied from elsewhere (with attribution). When you attribute, make sure you include a link to the original viz and how you changed it to suite your purposes\n",
    "\n",
    "- Demonstrate appropriate and effective use of basic visual encodings: spatial layout, color, size, shape, etc.\n",
    "\n",
    "- Provide a fair representation of the underlying data.\n",
    "\n",
    "- The data / visualization should address an interesting question relevant to the partner or their users and convincingly solve target user tasks."
   ]
  },
  {
   "cell_type": "markdown",
   "id": "6c20cb68-40d6-4598-85c6-0d8d03e6a021",
   "metadata": {},
   "source": [
    "## Presentation\n",
    "- Layout should use screen space wisely. Layouts that are too sparse force the user to scroll unnecessarily. Layouts that are too dense are cluttered.\n",
    "\n",
    "- Dashboard should be in a grid (i.e., 2 rows, 2 columns if having 4)\n",
    "\n",
    "- Use consistent color encodings when applicable across visual representations\n",
    "\n",
    "- Interface should include enough headings, legends, axis labels, and any other explanatory text needed to make it comprehensible.\n",
    "\n",
    "- Below each viz in the view there should be text that details what task the viz addresses."
   ]
  },
  {
   "cell_type": "markdown",
   "id": "582ade07-4681-470d-acbe-28055c6ea37d",
   "metadata": {},
   "source": [
    "## Interaction Elements\n",
    "### Events\n",
    "- The viz. in the dashboard must support\n",
    "\n",
    "- support mouse-based interaction (e.g., hover, click, drag, tooltip)\n",
    "\n",
    "- at least one UI widget (eg. dropdown, radio button, range slider).\n",
    "\n",
    "- at least one advance direct interaction selection technique such as selection interval or selection point.\n",
    "\n",
    "### Functionality\n",
    "- at least one bi-directional linking across two vizzes (i.e., the change in one elicits a change in the other and vice versa)\n",
    "\n",
    "- at least one use of filtering or drilling."
   ]
  },
  {
   "cell_type": "code",
   "execution_count": 1,
   "id": "25670ec6-af07-4106-a151-de6758111db3",
   "metadata": {},
   "outputs": [],
   "source": [
    "import pandas as pd\n",
    "import altair as alt"
   ]
  },
  {
   "cell_type": "code",
   "execution_count": 6,
   "id": "8254e824-6080-403b-9a81-76b29e5e8425",
   "metadata": {},
   "outputs": [],
   "source": [
    "df = pd.read_csv(\"http://data.insideairbnb.com/canada/bc/vancouver/2023-09-06/data/listings.csv\")"
   ]
  },
  {
   "cell_type": "code",
   "execution_count": 10,
   "id": "864b4232-452c-45dc-8c7a-2b0c8bf1f52c",
   "metadata": {},
   "outputs": [
    {
     "name": "stdout",
     "output_type": "stream",
     "text": [
      "<class 'pandas.core.frame.DataFrame'>\n",
      "RangeIndex: 6695 entries, 0 to 6694\n",
      "Data columns (total 75 columns):\n",
      " #   Column                                        Non-Null Count  Dtype  \n",
      "---  ------                                        --------------  -----  \n",
      " 0   id                                            6695 non-null   int64  \n",
      " 1   listing_url                                   6695 non-null   object \n",
      " 2   scrape_id                                     6695 non-null   int64  \n",
      " 3   last_scraped                                  6695 non-null   object \n",
      " 4   source                                        6695 non-null   object \n",
      " 5   name                                          6695 non-null   object \n",
      " 6   description                                   6677 non-null   object \n",
      " 7   neighborhood_overview                         4433 non-null   object \n",
      " 8   picture_url                                   6695 non-null   object \n",
      " 9   host_id                                       6695 non-null   int64  \n",
      " 10  host_url                                      6695 non-null   object \n",
      " 11  host_name                                     6695 non-null   object \n",
      " 12  host_since                                    6695 non-null   object \n",
      " 13  host_location                                 5259 non-null   object \n",
      " 14  host_about                                    3618 non-null   object \n",
      " 15  host_response_time                            5644 non-null   object \n",
      " 16  host_response_rate                            5644 non-null   object \n",
      " 17  host_acceptance_rate                          5829 non-null   object \n",
      " 18  host_is_superhost                             6536 non-null   object \n",
      " 19  host_thumbnail_url                            6695 non-null   object \n",
      " 20  host_picture_url                              6695 non-null   object \n",
      " 21  host_neighbourhood                            6346 non-null   object \n",
      " 22  host_listings_count                           6695 non-null   int64  \n",
      " 23  host_total_listings_count                     6695 non-null   int64  \n",
      " 24  host_verifications                            6695 non-null   object \n",
      " 25  host_has_profile_pic                          6695 non-null   object \n",
      " 26  host_identity_verified                        6695 non-null   object \n",
      " 27  neighbourhood                                 4433 non-null   object \n",
      " 28  neighbourhood_cleansed                        6695 non-null   object \n",
      " 29  neighbourhood_group_cleansed                  0 non-null      float64\n",
      " 30  latitude                                      6695 non-null   float64\n",
      " 31  longitude                                     6695 non-null   float64\n",
      " 32  property_type                                 6695 non-null   object \n",
      " 33  room_type                                     6695 non-null   object \n",
      " 34  accommodates                                  6695 non-null   int64  \n",
      " 35  bathrooms                                     0 non-null      float64\n",
      " 36  bathrooms_text                                6693 non-null   object \n",
      " 37  bedrooms                                      5255 non-null   float64\n",
      " 38  beds                                          6661 non-null   float64\n",
      " 39  amenities                                     6695 non-null   object \n",
      " 40  price                                         6695 non-null   object \n",
      " 41  minimum_nights                                6695 non-null   int64  \n",
      " 42  maximum_nights                                6695 non-null   int64  \n",
      " 43  minimum_minimum_nights                        6695 non-null   int64  \n",
      " 44  maximum_minimum_nights                        6695 non-null   int64  \n",
      " 45  minimum_maximum_nights                        6695 non-null   int64  \n",
      " 46  maximum_maximum_nights                        6695 non-null   int64  \n",
      " 47  minimum_nights_avg_ntm                        6695 non-null   float64\n",
      " 48  maximum_nights_avg_ntm                        6695 non-null   float64\n",
      " 49  calendar_updated                              0 non-null      float64\n",
      " 50  has_availability                              6695 non-null   object \n",
      " 51  availability_30                               6695 non-null   int64  \n",
      " 52  availability_60                               6695 non-null   int64  \n",
      " 53  availability_90                               6695 non-null   int64  \n",
      " 54  availability_365                              6695 non-null   int64  \n",
      " 55  calendar_last_scraped                         6695 non-null   object \n",
      " 56  number_of_reviews                             6695 non-null   int64  \n",
      " 57  number_of_reviews_ltm                         6695 non-null   int64  \n",
      " 58  number_of_reviews_l30d                        6695 non-null   int64  \n",
      " 59  first_review                                  5641 non-null   object \n",
      " 60  last_review                                   5641 non-null   object \n",
      " 61  review_scores_rating                          5641 non-null   float64\n",
      " 62  review_scores_accuracy                        5628 non-null   float64\n",
      " 63  review_scores_cleanliness                     5628 non-null   float64\n",
      " 64  review_scores_checkin                         5627 non-null   float64\n",
      " 65  review_scores_communication                   5628 non-null   float64\n",
      " 66  review_scores_location                        5627 non-null   float64\n",
      " 67  review_scores_value                           5627 non-null   float64\n",
      " 68  license                                       4895 non-null   object \n",
      " 69  instant_bookable                              6695 non-null   object \n",
      " 70  calculated_host_listings_count                6695 non-null   int64  \n",
      " 71  calculated_host_listings_count_entire_homes   6695 non-null   int64  \n",
      " 72  calculated_host_listings_count_private_rooms  6695 non-null   int64  \n",
      " 73  calculated_host_listings_count_shared_rooms   6695 non-null   int64  \n",
      " 74  reviews_per_month                             5641 non-null   float64\n",
      "dtypes: float64(17), int64(23), object(35)\n",
      "memory usage: 3.8+ MB\n"
     ]
    }
   ],
   "source": [
    "df.info()"
   ]
  },
  {
   "cell_type": "markdown",
   "id": "8fb39a70-9610-4036-8522-5c64fe69950f",
   "metadata": {},
   "source": [
    "1. Tak: Tick for price distribution (select price range)\n",
    "\n",
    "\n",
    "3. Tak: Boxplot (review_scores_rating, review_scores_accuracy, review_scores_checkin, review_scores_communication, review_scores_location, review_scores_value) rating for selected listings\n",
    "\n",
    "4. Rachel pie for selected listings's roomtype\n",
    "\n",
    "5. Chloe: Cloropeth map Summary of each neibourhood for selected area: # superhost, # listings, average availability ?? on a map\n",
    "\n",
    "6. toggle for superhost ???\n",
    "\n",
    "7. Rachel Listings(Count) vs. occupancy bar per selected neibourhood\n",
    "\n",
    "\n",
    "2. dropdown to select a neighbourhood."
   ]
  },
  {
   "cell_type": "code",
   "execution_count": null,
   "id": "d009616e-6a21-4b6c-92bd-7290f383eb33",
   "metadata": {},
   "outputs": [],
   "source": [
    "vancouver_map = alt.topo_feature(data.world_110m.url, 'countries')"
   ]
  }
 ],
 "metadata": {
  "kernelspec": {
   "display_name": "Python 3 (ipykernel)",
   "language": "python",
   "name": "python3"
  },
  "language_info": {
   "codemirror_mode": {
    "name": "ipython",
    "version": 3
   },
   "file_extension": ".py",
   "mimetype": "text/x-python",
   "name": "python",
   "nbconvert_exporter": "python",
   "pygments_lexer": "ipython3",
   "version": "3.11.4"
  }
 },
 "nbformat": 4,
 "nbformat_minor": 5
}
